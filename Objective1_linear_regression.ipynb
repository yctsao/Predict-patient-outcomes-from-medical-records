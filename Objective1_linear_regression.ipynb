{
 "cells": [
  {
   "cell_type": "code",
   "execution_count": null,
   "metadata": {},
   "outputs": [],
   "source": [
    "library(readr)\n",
    "library(dplyr)"
   ]
  },
  {
   "cell_type": "markdown",
   "metadata": {},
   "source": [
    "# Data Preprocessing"
   ]
  },
  {
   "cell_type": "code",
   "execution_count": null,
   "metadata": {},
   "outputs": [],
   "source": [
    "# Merging the study A, B, C, D, E\n",
    "setwd(\"c:/stats202/Study3/\")\n",
    "files <- list.files(pattern=\"*.csv\")\n",
    "require(purrr)\n",
    "df <- files %>% map_dfr(read.csv) \n",
    "df"
   ]
  },
  {
   "cell_type": "code",
   "execution_count": null,
   "metadata": {},
   "outputs": [],
   "source": [
    "# Rescale the data\n",
    "df2 = df %>%\n",
    "   mutate_at(c(9:39), funs(c(scale(.))))\n",
    "df2"
   ]
  },
  {
   "cell_type": "markdown",
   "metadata": {},
   "source": [
    "# regression model"
   ]
  },
  {
   "cell_type": "code",
   "execution_count": null,
   "metadata": {
    "scrolled": true
   },
   "outputs": [],
   "source": [
    "PANSS_total_lm <- lm(PANSS_Total ~  sqrt(VisitDay) + study*TxGroup*VisitDay, data = df)\n",
    "summary(PANSS_total_lm)"
   ]
  },
  {
   "cell_type": "code",
   "execution_count": null,
   "metadata": {},
   "outputs": [],
   "source": [
    "par(mfrow = c(2, 2))\n",
    "plot(PANSS_total_lm)\n",
    "plot(predict(PANSS_total_lm), rstudent(PANSS_total_lm))"
   ]
  },
  {
   "cell_type": "code",
   "execution_count": null,
   "metadata": {},
   "outputs": [],
   "source": [
    "#Load the data\n",
    "df_A<-read.csv(\"c:/stats202/Study3/Study_A.csv\")\n",
    "df_B<-read.csv(\"c:/stats202/Study3/Study_B.csv\")\n",
    "df_C<-read.csv(\"c:/stats202/Study3/Study_C.csv\")\n",
    "df_D<-read.csv(\"c:/stats202/Study3/Study_D.csv\")\n",
    "df_E<-read.csv(\"c:/stats202/Study3/Study_E.csv\")"
   ]
  },
  {
   "cell_type": "code",
   "execution_count": null,
   "metadata": {},
   "outputs": [],
   "source": [
    "PANSS_total_lm <- lm(PANSS_Total ~  sqrt(VisitDay) +TxGroup*VisitDay, data = df_A)\n",
    "summary(PANSS_total_lm)"
   ]
  },
  {
   "cell_type": "code",
   "execution_count": null,
   "metadata": {},
   "outputs": [],
   "source": [
    "par(mfrow = c(2, 2))\n",
    "plot(PANSS_total_lm)\n",
    "plot(predict(PANSS_total_lm), rstudent(PANSS_total_lm))"
   ]
  },
  {
   "cell_type": "code",
   "execution_count": null,
   "metadata": {},
   "outputs": [],
   "source": [
    "PANSS_total_lm <- lm(PANSS_Total ~  sqrt(VisitDay) +TxGroup*VisitDay, data = df_B)\n",
    "summary(PANSS_total_lm)"
   ]
  },
  {
   "cell_type": "code",
   "execution_count": null,
   "metadata": {},
   "outputs": [],
   "source": [
    "PANSS_total_lm <- lm(PANSS_Total ~  sqrt(VisitDay) +TxGroup*VisitDay, data = df_C)\n",
    "summary(PANSS_total_lm)"
   ]
  },
  {
   "cell_type": "code",
   "execution_count": null,
   "metadata": {},
   "outputs": [],
   "source": [
    "PANSS_total_lm <- lm(PANSS_Total ~  sqrt(VisitDay) +TxGroup*VisitDay, data = df_D)\n",
    "summary(PANSS_total_lm)"
   ]
  },
  {
   "cell_type": "code",
   "execution_count": null,
   "metadata": {},
   "outputs": [],
   "source": [
    "PANSS_total_lm <- lm(PANSS_Total ~  sqrt(VisitDay) +TxGroup*VisitDay, data = df_E)\n",
    "summary(PANSS_total_lm)"
   ]
  },
  {
   "cell_type": "code",
   "execution_count": null,
   "metadata": {},
   "outputs": [],
   "source": []
  }
 ],
 "metadata": {
  "kernelspec": {
   "display_name": "R",
   "language": "R",
   "name": "ir"
  },
  "language_info": {
   "codemirror_mode": "r",
   "file_extension": ".r",
   "mimetype": "text/x-r-source",
   "name": "R",
   "pygments_lexer": "r",
   "version": "3.6.0"
  }
 },
 "nbformat": 4,
 "nbformat_minor": 2
}
