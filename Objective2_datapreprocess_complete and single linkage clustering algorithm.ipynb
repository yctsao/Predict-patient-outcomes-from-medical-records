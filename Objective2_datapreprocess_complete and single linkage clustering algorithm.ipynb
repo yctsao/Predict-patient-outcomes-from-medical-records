{
 "cells": [
  {
   "cell_type": "code",
   "execution_count": null,
   "metadata": {},
   "outputs": [],
   "source": [
    "library(readr)\n",
    "library(dplyr)"
   ]
  },
  {
   "cell_type": "markdown",
   "metadata": {},
   "source": [
    "# Data-PreProcessing"
   ]
  },
  {
   "cell_type": "code",
   "execution_count": null,
   "metadata": {},
   "outputs": [],
   "source": [
    "# Merging the study A, B, C, D and E\n",
    "setwd(\"c:/stats202/Study3/\")\n",
    "files <- list.files(pattern=\"*.csv\")\n",
    "require(purrr)\n",
    "df <- files %>% map_dfr(read.csv) \n",
    "df"
   ]
  },
  {
   "cell_type": "code",
   "execution_count": null,
   "metadata": {},
   "outputs": [],
   "source": [
    "#Selecting just visit day= 0 data, with column: country, mean of P, N and G scores and PNASS_total scores\n",
    "df2 = df %>%\n",
    "  filter(VisitDay == 0)\n",
    "df3 = df2 %>%\n",
    "  select(-Study, -Country, -SiteID, -RaterID, -AssessmentiD, -VisitDay, -TxGroup, -LeadStatus)"
   ]
  },
  {
   "cell_type": "code",
   "execution_count": null,
   "metadata": {},
   "outputs": [],
   "source": [
    "#Create the mean of P1-7, N1-7 and G1-16 \n",
    "df3[2:13] <- lapply(df3[2:13], as.numeric)\n",
    "#sapply(df5, class) \n",
    "df4 = df3 %>%\n",
    "  transmute(PatientID,Pmean= rowMeans(df3[,2:8]), Nmean=rowMeans(df3[,9:15]), Gmean=rowMeans(df3[,16:31]), PANSS_Total)"
   ]
  },
  {
   "cell_type": "code",
   "execution_count": null,
   "metadata": {},
   "outputs": [],
   "source": [
    "#Selecting columns used to be the variables and Rescale the variables\n",
    "df5 = df4 %>%\n",
    "   mutate_at(c(2:5), funs(c(scale(.))))"
   ]
  },
  {
   "cell_type": "code",
   "execution_count": null,
   "metadata": {},
   "outputs": [],
   "source": [
    "write_csv(df5,\"c:/stats202/Objective2_process_data_allpatientID_studyAtoE.csv\")"
   ]
  },
  {
   "cell_type": "markdown",
   "metadata": {},
   "source": [
    "# Hierarchical clustering"
   ]
  },
  {
   "cell_type": "markdown",
   "metadata": {},
   "source": [
    "# Complete linkage"
   ]
  },
  {
   "cell_type": "code",
   "execution_count": null,
   "metadata": {},
   "outputs": [],
   "source": [
    "# Dissimilarity matrix\n",
    "df6 = df5[2:5]\n",
    "\n",
    "d <- dist(df6, method = \"euclidean\")\n",
    "\n",
    "# Hierarchical clustering using Complete Linkage\n",
    "hc.complete <- hclust(d, method = \"complete\" )\n",
    "\n",
    "# Plot the obtained dendrogram\n",
    "plot(hc.complete, cex = 0.6, hang = -10)\n",
    "#rect.hclust(hc.complete, k = 3, border = 2:5)"
   ]
  },
  {
   "cell_type": "code",
   "execution_count": null,
   "metadata": {},
   "outputs": [],
   "source": [
    "hc_clust_1= cutree(hc.complete, 4)"
   ]
  },
  {
   "cell_type": "code",
   "execution_count": null,
   "metadata": {},
   "outputs": [],
   "source": [
    "#Plot cluster dendrogram\n",
    "plot(hc.complete, cex = 0.6)\n",
    "rect.hclust(hc.complete, k = 4, border = 2:5)"
   ]
  },
  {
   "cell_type": "code",
   "execution_count": null,
   "metadata": {
    "scrolled": true
   },
   "outputs": [],
   "source": [
    "table(hc_clust_1)"
   ]
  },
  {
   "cell_type": "code",
   "execution_count": null,
   "metadata": {},
   "outputs": [],
   "source": [
    "df6 %>%\n",
    "  mutate(cluster = hc_clust_1) %>%\n",
    "  head"
   ]
  },
  {
   "cell_type": "code",
   "execution_count": null,
   "metadata": {},
   "outputs": [],
   "source": [
    "# adding assignments of chosen hierarchical linkage\n",
    "#df6['hc_clust_1'] = hc_1_assign\n",
    "\n",
    "# getting mean and standard deviation summary statistics\n",
    "#clust_summary = do.call(data.frame, aggregate(. ~hc_clust, data = df6, function(x) c(avg = mean(x))))\n",
    "#clust_summary"
   ]
  },
  {
   "cell_type": "code",
   "execution_count": null,
   "metadata": {},
   "outputs": [],
   "source": [
    "# Plotting the plot of Gmean and PANSS_total\n",
    "plot_one = ggplot(df6, aes(x=Gmean, y=PANSS_Total, color=as.factor(hc_clust_1))) + geom_point()\n",
    "\n",
    "par( mfrow = c(1,1) )\n",
    "plot_one "
   ]
  },
  {
   "cell_type": "markdown",
   "metadata": {},
   "source": [
    "# Single Linkage"
   ]
  },
  {
   "cell_type": "code",
   "execution_count": null,
   "metadata": {},
   "outputs": [],
   "source": [
    "# Dissimilarity matrix\n",
    "df6 = df5[2:5]\n",
    "\n",
    "d <- dist(df6, method = \"euclidean\")\n",
    "\n",
    "# Hierarchical clustering using Complete Linkage\n",
    "hc.single <- hclust(d, method = \"single\" )\n",
    "\n",
    "# Plot the obtained dendrogram\n",
    "plot(hc.single, cex = 0.6, hang = -1)"
   ]
  },
  {
   "cell_type": "code",
   "execution_count": null,
   "metadata": {},
   "outputs": [],
   "source": [
    "hc_clust_2= cutree(hc.single, 4)\n",
    "hc_clust_2"
   ]
  },
  {
   "cell_type": "markdown",
   "metadata": {},
   "source": [
    "# Average Linkage"
   ]
  },
  {
   "cell_type": "code",
   "execution_count": null,
   "metadata": {},
   "outputs": [],
   "source": [
    "# Dissimilarity matrix\n",
    "df8 = df7[2:5]\n",
    "\n",
    "d <- dist(df8, method = \"euclidean\")\n",
    "\n",
    "# Hierarchical clustering using Complete Linkage\n",
    "hc.average <- hclust(d, method = \"average\" )\n",
    "\n",
    "# Plot the obtained dendrogram\n",
    "plot(hc.average, cex = 0.6, hang = -1)"
   ]
  },
  {
   "cell_type": "code",
   "execution_count": null,
   "metadata": {},
   "outputs": [],
   "source": []
  }
 ],
 "metadata": {
  "kernelspec": {
   "display_name": "R",
   "language": "R",
   "name": "ir"
  },
  "language_info": {
   "codemirror_mode": "r",
   "file_extension": ".r",
   "mimetype": "text/x-r-source",
   "name": "R",
   "pygments_lexer": "r",
   "version": "3.6.0"
  }
 },
 "nbformat": 4,
 "nbformat_minor": 2
}
