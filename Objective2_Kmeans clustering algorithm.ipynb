{
 "cells": [
  {
   "cell_type": "code",
   "execution_count": null,
   "metadata": {},
   "outputs": [],
   "source": [
    "library(readr)\n",
    "library(dplyr)"
   ]
  },
  {
   "cell_type": "code",
   "execution_count": null,
   "metadata": {},
   "outputs": [],
   "source": [
    "df2<-read.csv(\"c:/stats202/Objective2_process_data_allpatientID_studyAtoE.csv\")"
   ]
  },
  {
   "cell_type": "markdown",
   "metadata": {},
   "source": [
    "# KNN"
   ]
  },
  {
   "cell_type": "code",
   "execution_count": null,
   "metadata": {},
   "outputs": [],
   "source": [
    "#Chose the Pmean, Nmean,Gmean and PANSS score as the varaibles\n",
    "df3 = df2[2:5]"
   ]
  },
  {
   "cell_type": "code",
   "execution_count": null,
   "metadata": {},
   "outputs": [],
   "source": [
    "set.seed(2345)\n",
    "library(animation)\n",
    "kmeans.ani(df3, 10)"
   ]
  },
  {
   "cell_type": "markdown",
   "metadata": {},
   "source": [
    "# Finding optimal K"
   ]
  },
  {
   "cell_type": "code",
   "execution_count": null,
   "metadata": {},
   "outputs": [],
   "source": [
    "# Construct a function to compute the total within clusters sum of squares\n",
    "kmean_withinss <- function(k) {\n",
    "    cluster <- kmeans(df3, k)\n",
    "    return (cluster$tot.withinss)\n",
    "}"
   ]
  },
  {
   "cell_type": "code",
   "execution_count": null,
   "metadata": {},
   "outputs": [],
   "source": [
    "kmean_withinss(2)"
   ]
  },
  {
   "cell_type": "code",
   "execution_count": null,
   "metadata": {},
   "outputs": [],
   "source": [
    "#Run the algorithm n times  \n",
    "#Set maximum cluster \n",
    "#sapply(2:max_k, kmean_withinss): Run the function kmean_withinss() over a range 2:max_k, i.e. 2 to 20.\n",
    "#max_k <-20: Set a maximum number of to 20\n",
    "\n",
    "max_k <-20\n",
    "# Run algorithm over a range of k \n",
    "wss <- sapply(2:max_k, kmean_withinss)"
   ]
  },
  {
   "cell_type": "code",
   "execution_count": null,
   "metadata": {},
   "outputs": [],
   "source": [
    "#Create a data frame with the results of the algorithm\n",
    "elbow <-data.frame(2:max_k, wss)"
   ]
  },
  {
   "cell_type": "code",
   "execution_count": null,
   "metadata": {
    "scrolled": true
   },
   "outputs": [],
   "source": [
    "library(ggplot2)\n",
    "# Plot the graph with gglop for WSS v.s K\n",
    "ggplot(elbow, aes(x = 2:max_k, y = wss)) +\n",
    "    geom_point() +\n",
    "    geom_line() +\n",
    "    scale_x_continuous(breaks = seq(1, 30, by = 1))"
   ]
  },
  {
   "cell_type": "code",
   "execution_count": null,
   "metadata": {},
   "outputs": [],
   "source": [
    "pc_cluster_2 <-kmeans(df3, 4)"
   ]
  },
  {
   "cell_type": "code",
   "execution_count": null,
   "metadata": {
    "scrolled": true
   },
   "outputs": [],
   "source": [
    "#pc_cluster_2$cluster\n",
    "pc_cluster_2$centers"
   ]
  },
  {
   "cell_type": "code",
   "execution_count": null,
   "metadata": {},
   "outputs": [],
   "source": [
    "pc_cluster_2$size"
   ]
  },
  {
   "cell_type": "code",
   "execution_count": null,
   "metadata": {},
   "outputs": [],
   "source": [
    "# creating the plots of Gmean and PANSS_total\n",
    "plot_one = ggplot(df3, aes(x=Gmean, y=PANSS_Total , color=as.factor(pc_cluster_2$cluster))) + geom_point()\n",
    "plot_one "
   ]
  },
  {
   "cell_type": "code",
   "execution_count": null,
   "metadata": {},
   "outputs": [],
   "source": [
    "o=order(pc_cluster_2$cluster)\n",
    "cluster = data.frame(Pmean = df3$Pmean,pc_cluster_2$cluster)\n",
    "write_csv(cluster,\"c:/stats202/cluster_studyAtoE_k=4.csv\")"
   ]
  },
  {
   "cell_type": "code",
   "execution_count": null,
   "metadata": {},
   "outputs": [],
   "source": [
    "#fviz_cluster(pc_cluster_2, data = df3)"
   ]
  },
  {
   "cell_type": "code",
   "execution_count": null,
   "metadata": {},
   "outputs": [],
   "source": [
    "library(cluster)\n",
    "clusplot(df3, pc_cluster_2$cluster, main='2D representation of the Cluster solution',\n",
    "         color=TRUE, shade=TRUE,\n",
    "         labels=2, lines=0)"
   ]
  },
  {
   "cell_type": "code",
   "execution_count": null,
   "metadata": {},
   "outputs": [],
   "source": [
    "df %>%\n",
    "  as_tibble() %>%\n",
    "  mutate(cluster = pc_cluster_2$cluster,\n",
    "         state = row.names(df3)) %>%\n",
    "  ggplot(aes(Nmean,PANSS_Total, color = factor(cluster), label = state)) +\n",
    "  geom_text()"
   ]
  },
  {
   "cell_type": "code",
   "execution_count": null,
   "metadata": {},
   "outputs": [],
   "source": [
    "# Four clusters in 3 dimensions\n",
    "x = c(rnorm(20, mean = 0), rnorm(20, mean = 3), rnorm(20, mean = 5), rnorm(20, mean = -10))\n",
    "y = rnorm(80, mean = 0)\n",
    "z = c(rnorm(40, mean = -5), rnorm(40, mean = 0))\n",
    "data = cbind(x, y, z)\n",
    "\n",
    "#png(\"examples/4_clusters_3d.png\")\n",
    "scatterplot3d(x, y, z)\n",
    "dev.off()"
   ]
  },
  {
   "cell_type": "markdown",
   "metadata": {},
   "source": [
    "# Creating heatmap"
   ]
  },
  {
   "cell_type": "code",
   "execution_count": null,
   "metadata": {},
   "outputs": [],
   "source": [
    "center <-pc_cluster_2$centers\n",
    "center"
   ]
  },
  {
   "cell_type": "code",
   "execution_count": null,
   "metadata": {},
   "outputs": [],
   "source": [
    "library(tidyr)\n",
    "\n",
    "# create dataset with the cluster number\n",
    "\n",
    "cluster <- c(1: 4)\n",
    "center_df <- data.frame(cluster, center)\n",
    "\n",
    "# Reshape the data\n",
    "\n",
    "center_reshape <- gather(center_df,features, values, Pmean, Nmean, Gmean, PANSS_Total)\n",
    "center_reshape"
   ]
  },
  {
   "cell_type": "code",
   "execution_count": null,
   "metadata": {},
   "outputs": [],
   "source": [
    "library(RColorBrewer)\n",
    "# Create the palette\n",
    "hm.palette <-colorRampPalette(rev(brewer.pal(10, 'RdYlGn')),space='Lab')"
   ]
  },
  {
   "cell_type": "code",
   "execution_count": null,
   "metadata": {},
   "outputs": [],
   "source": [
    "# Plot the heat map\n",
    "ggplot(data = center_reshape, aes(x = features, y = cluster, fill = values)) +\n",
    "    scale_y_continuous(breaks = seq(1, 7, by = 1)) +\n",
    "    geom_tile() +\n",
    "    coord_equal() +\n",
    "    scale_fill_gradientn(colours = hm.palette(90)) +\n",
    "    theme_classic() "
   ]
  }
 ],
 "metadata": {
  "kernelspec": {
   "display_name": "R",
   "language": "R",
   "name": "ir"
  },
  "language_info": {
   "codemirror_mode": "r",
   "file_extension": ".r",
   "mimetype": "text/x-r-source",
   "name": "R",
   "pygments_lexer": "r",
   "version": "3.6.0"
  }
 },
 "nbformat": 4,
 "nbformat_minor": 2
}
